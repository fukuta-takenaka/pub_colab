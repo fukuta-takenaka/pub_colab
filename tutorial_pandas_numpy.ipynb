{
  "cells": [
    {
      "cell_type": "markdown",
      "metadata": {
        "id": "view-in-github",
        "colab_type": "text"
      },
      "source": [
        "<a href=\"https://colab.research.google.com/github/fukuta-takenaka/pub_colab/blob/main/tutorial_pandas_numpy.ipynb\" target=\"_parent\"><img src=\"https://colab.research.google.com/assets/colab-badge.svg\" alt=\"Open In Colab\"/></a>"
      ]
    },
    {
      "cell_type": "markdown",
      "source": [
        "### Ref:\n",
        "- https://tutorials.chainer.org/ja/11_Introduction_to_Pandas.html\n",
        "- https://colab.research.google.com/drive/1a4sbKG7jOJGn4oeonQPA8XjJm7OYgcdX#scrollTo=nuHk1Tv9kOjf"
      ],
      "metadata": {
        "id": "ak-L6Uhnut8n"
      }
    },
    {
      "cell_type": "markdown",
      "metadata": {
        "id": "jEuKb9fhjovk"
      },
      "source": [
        "## Pandas 入門\n",
        "\n",
        "\n",
        "![dataset](https://raw.githubusercontent.com/fukuta-takenaka/pub_colab/main/data/California_Housing_Dataset.png)\n",
        "![map](https://upload.wikimedia.org/wikipedia/commons/d/dd/Map_of_USA_CA.svg)\n",
        "\n",
        "Pandas はデータ操作によく用いられるパッケージであり、CSV などの一般的なデータ形式で保存されたデータの読み込みや、条件を指定しての一部データの抽出など、機械学習手法で取り扱うデータを整理するのに便利です。\n",
        "\n",
        "まず Pandas パッケージを読み込みましょう。\n",
        "`pandas` は `pd` という別名を与えて用いるのが一般的です。"
      ]
    },
    {
      "cell_type": "code",
      "execution_count": null,
      "metadata": {
        "id": "oOg-SRWp2OQz"
      },
      "outputs": [],
      "source": [
        "import pandas as pd"
      ]
    },
    {
      "cell_type": "markdown",
      "metadata": {
        "id": "26MTeJHGqx6q"
      },
      "source": [
        "### CSV ファイルの読み書き\n",
        "\n",
        "データセットは Google Colaboratory で用意されているサンプルデータ（カリフォルニアの家賃データ）を使用します。[データの概要](https://atmarkit.itmedia.co.jp/ait/articles/2201/31/news042.html)（カラム名が若干違います）\n",
        "\n",
        "Pandas では CSV ファイルを読み込むための `pd.read_csv()` という関数が用意されています。\n",
        "こちらを使って CSV ファイルを読み込みます。\n"
      ]
    },
    {
      "cell_type": "code",
      "execution_count": null,
      "metadata": {
        "id": "QvqC02GJ3V0a"
      },
      "outputs": [],
      "source": [
        "# データセットの読み込み。オンラインあるcsvの場合、URLを引数にしても読み込める\n",
        "df = pd.read_csv('https://raw.githubusercontent.com/timothypesi/Data-Sets-For-Machine-Learning-/main/california_housing_train.csv')\n",
        "\n",
        "# 型の確認\n",
        "type(df)"
      ]
    },
    {
      "cell_type": "markdown",
      "metadata": {
        "id": "k8c9lneAih3y"
      },
      "source": [
        "`df` という変数名は、**データフレーム (data frame)** という Pandas で中心的に用いられる**データ構造 (data structure)** を表すクラスの名前の頭文字に由来しています。\n",
        "`pd.read_csv()` 関数は、CSV ファイルの内容を `DataFrame` オブジェクトに読み込みます。\n",
        "リストや辞書型から`DataFrame`オブジェクトを作ることも可能ですが、データ処理ではCSVファイルを読み込む場合の方が一般的です。[参考](https://www.w3resource.com/python-exercises/pandas/index.php#:~:text=pandas%20Series%20object-,Create%20Dataframe%3A,-import%20pandas%20as)\n",
        "\n",
        "![dataframe](https://www.w3resource.com/w3r_images/pandas-data-structure.svg)\n",
        "\n",
        "https://www.w3resource.com/python-exercises/pandas/index.php\n"
      ]
    },
    {
      "cell_type": "markdown",
      "metadata": {
        "id": "KXJ2TyXAih36"
      },
      "source": [
        "### DataFrame の表示\n",
        "\n",
        "`df` に読み込まれたデータの中身の確認してみましょう。\n",
        "Jupyter Notebook 上では、大きな DataFrame を表示しようとすると自動的に一部が省略されることがあります。\n",
        "\n",
        "先頭の数件のみを確認したい場合は、`df.head()`メソッドを利用します。`df.head()` はデフォルトで先頭から 5 件のデータを表示しますが、`df.head(3)` のように引数に表示したいデータ件数を指定すると、指定された件数だけを表示することもできます。\n",
        "\n",
        "このデータでは、各行は地区を意味しており、地区ごとの緯度や経度、物件の築年数中央値、部屋数の合計（地区内の物件全ての部屋数なので非常に多い）などの情報が入っています。"
      ]
    },
    {
      "cell_type": "code",
      "execution_count": null,
      "metadata": {
        "id": "8C5F7DqQZm1y"
      },
      "outputs": [],
      "source": [
        "df"
      ]
    },
    {
      "cell_type": "code",
      "source": [
        "df.head()"
      ],
      "metadata": {
        "id": "Z98LwXbbuRis"
      },
      "execution_count": null,
      "outputs": []
    },
    {
      "cell_type": "markdown",
      "source": [
        "### DataFrameの情報の確認：カラム名、インデックス、各列のデータ型、サイズ\n",
        "\n",
        "データの理解や中身の抽出に頻繁に用いる、カラム名とインデックスなどを確認します"
      ],
      "metadata": {
        "id": "2d2jtynCxTxV"
      }
    },
    {
      "cell_type": "code",
      "source": [
        "print('カラム名', df.columns)\n",
        "print('インデックス', df.index)\n",
        "print('各列のデータ型\\n', df.dtypes)\n",
        "print('行数、列数', df.shape)"
      ],
      "metadata": {
        "id": "7w4MX2kVxkfq"
      },
      "execution_count": null,
      "outputs": []
    },
    {
      "cell_type": "markdown",
      "source": [
        "### データの抽出の基本\n",
        "\n",
        "| 操作 | 説明 |\n",
        "| ---- |  ---- |\n",
        "| `df['カラム名']` | カラム名での列抽出 |\n",
        "| `df.iloc[:, 0]` | 最初のカラム(=0)の列抽出 |\n",
        "| `df.iloc[0, :]` | 最初の行抽出 |\n",
        "| `df.iloc[0, 0]` | 最初の行の最初の値の抽出 |\n",
        "\n",
        "`iloc`の操作では、表の座標のようにデータを取得するが、感覚としてはy座標、x座標の順で指定する点に注意。コロン`:`は、その軸すべてのアイテムを対象とする記号。`df.iloc[:, 0]`であれば「y軸=全て、x軸=最初のアイテム」 = 「最初の列」という意味になる。"
      ],
      "metadata": {
        "id": "YZUgyzYk2t2_"
      }
    },
    {
      "cell_type": "code",
      "source": [
        "print(df['longitude'])\n",
        "print(type(df['longitude']))"
      ],
      "metadata": {
        "id": "7qGw8Pwh2tlp"
      },
      "execution_count": null,
      "outputs": []
    },
    {
      "cell_type": "code",
      "source": [
        "df[['latitude', 'housing_median_age']].head(3)"
      ],
      "metadata": {
        "id": "XeUCllwD5-L0"
      },
      "execution_count": null,
      "outputs": []
    },
    {
      "cell_type": "code",
      "source": [
        "print(df.iloc[2])  # indexはゼロスタートなので3行目を出力\n",
        "print(type(df.iloc[2]))"
      ],
      "metadata": {
        "id": "VnceU-HK6Kk0"
      },
      "execution_count": null,
      "outputs": []
    },
    {
      "cell_type": "code",
      "source": [
        "print(df.iloc[2, 4])  # 3行目・5列目の値\n",
        "print(type(df.iloc[2, 4]))"
      ],
      "metadata": {
        "id": "uTj3gCDP6n1v"
      },
      "execution_count": null,
      "outputs": []
    },
    {
      "cell_type": "markdown",
      "source": [
        "### 計算\n",
        "\n",
        "抽出したカラムなどは計算に利用できます"
      ],
      "metadata": {
        "id": "k3IG9cQmlTHO"
      }
    },
    {
      "cell_type": "code",
      "source": [
        "# 各地区（行）について、1世帯あたりの人口を計算\n",
        "population_by_households = df['population'] / df['households']\n",
        "print(population_by_households)\n",
        "\n",
        "# DataFrame, Seriesにはmax()やmean()などのメソッドが用意されています\n",
        "total_population = df['population'].sum()\n",
        "print(total_population)"
      ],
      "metadata": {
        "id": "NpDa3UCplSdA"
      },
      "execution_count": null,
      "outputs": []
    },
    {
      "cell_type": "markdown",
      "source": [
        "### 条件によるデータの検索\n",
        "\n",
        "pandasの条件検索にはいくつか方法がありますが、可読性の観点から`df.query()`メソッドを扱います。  \n",
        "Pythonの構文を文字列として与え、条件を満たす行が`DataFrame`で返却されます。  \n",
        "条件の文では、カラム名をクォーテーションで囲む必要はありません。  \n",
        "\n",
        "参考：https://qiita.com/dox/items/bf6ce1c71d8d18723e74\n"
      ],
      "metadata": {
        "id": "p595pbZfI1OD"
      }
    },
    {
      "cell_type": "code",
      "source": [
        "df.query('housing_median_age == 1')  # 地区の築年数中央値が1年である行を検索。housing_median_ageはカラム名なのでクォーテーション不要"
      ],
      "metadata": {
        "id": "PSqk7SShNGpA"
      },
      "execution_count": null,
      "outputs": []
    },
    {
      "cell_type": "code",
      "source": [
        "df.query('population / households < 1')  # 複雑な条件も設定できます：1世帯あたりの平均人数が1人未満の地区（？？？）を検索"
      ],
      "metadata": {
        "id": "5MtynrJcIxGX"
      },
      "execution_count": null,
      "outputs": []
    },
    {
      "cell_type": "code",
      "source": [
        "mean_longitude = df['longitude'].mean()\n",
        "mean_latitude = df['latitude'].mean()\n",
        "print(mean_longitude)\n",
        "print(mean_latitude)\n",
        "\n",
        "# 変数を条件に利用するには@を変数名に付けます。and検索やor検索も可能です\n",
        "north_east = df.query('(longitude > @mean_longitude) and (latitude > @mean_latitude)')\n",
        "print(north_east[['longitude', 'latitude']].min())\n",
        "north_east"
      ],
      "metadata": {
        "id": "vx6wmvmcPzdq"
      },
      "execution_count": null,
      "outputs": []
    },
    {
      "cell_type": "markdown",
      "source": [
        "文字列検索も可能です。[参考](https://note.nkmk.me/python-pandas-query/#:~:text=source%3A%20pandas_query.py-,%E6%96%87%E5%AD%97%E5%88%97%E3%83%A1%E3%82%BD%E3%83%83%E3%83%89%E3%81%A7%E6%9D%A1%E4%BB%B6%E6%8C%87%E5%AE%9A,-%E6%96%87%E5%AD%97%E5%88%97%E3%81%8C)"
      ],
      "metadata": {
        "id": "V4KrRpJIUhta"
      }
    },
    {
      "cell_type": "code",
      "source": [
        "kitanihon = pd.DataFrame(\n",
        "    {'県名': ['北海道', '青森県', '岩手県', '宮城県', '秋田県', '山形県', '福島県'],\n",
        "     '面積': [83423, 9607, 15279, 7285, 11612, 9323, 13783]\n",
        "     })\n",
        "kitanihon"
      ],
      "metadata": {
        "id": "1pYmnFwJUQC_"
      },
      "execution_count": null,
      "outputs": []
    },
    {
      "cell_type": "code",
      "source": [
        "# 「道」の字が含まれている県名を検索。道はカラム名でないので、クォーテーションが必要。文字列を扱う際にはengine='python'引数が必要。\n",
        "kitanihon.query('県名.str.contains(\"道\")', engine='python')"
      ],
      "metadata": {
        "id": "1QEMtSLJWkMS"
      },
      "execution_count": null,
      "outputs": []
    },
    {
      "cell_type": "markdown",
      "metadata": {
        "id": "NliEdJHzvpom"
      },
      "source": [
        "### 並べ替え\n",
        "\n",
        "データフレームのある列を抽出し、`df.sort_values()` メソッドを呼び出すことで値の**並べ替え (sort)** を行うことができます。\n",
        "なお、このメソッドは並べ替えが終わったあとの値でもとのデータフレーム内の値を置き換えることまでは行わず、結果を返します。\n",
        "そこで、別の変数で結果を受け取り、始めの 5 行を表示することで並べ替えが行われたことを確認してみましょう。\n",
        "\n",
        "`df.sort_values()` は、デフォルトでは**昇順 (ascending)** に並べ替えを行います。昇順とは、だんだん値が大きくなっていくように並べ替えるときの並べ方のことで、逆にだんだん値が小さくなっていくように並べ替えるときは、**降順 (descending)** に並べると言います。\n",
        "\n",
        "`df.sort_values()` は並べ替えを行いたい列の名前を `by` という引数で受け取ります。また、デフォルトでは昇順に並べ替えを行います。"
      ]
    },
    {
      "cell_type": "code",
      "execution_count": null,
      "metadata": {
        "id": "efmrXOKKwVmf"
      },
      "outputs": [],
      "source": [
        "# total_rooms 列の値を昇順に並べ替え\n",
        "df_as = df.sort_values(by='total_rooms')\n",
        "df_as.head()"
      ]
    },
    {
      "cell_type": "markdown",
      "metadata": {
        "id": "JvBXPheQxExY"
      },
      "source": [
        "降順に並べ替える場合は、`ascending=False` という引数の指定を行います。"
      ]
    },
    {
      "cell_type": "code",
      "execution_count": null,
      "metadata": {
        "id": "H5hcz3PowVgc"
      },
      "outputs": [],
      "source": [
        "# total_rooms の列の値を降順に並べ替え\n",
        "df_de = df.sort_values(by='total_rooms', ascending=False)\n",
        "df_de.head()"
      ]
    },
    {
      "cell_type": "markdown",
      "metadata": {
        "id": "7Uy36D31uibB"
      },
      "source": [
        "### CSV ファイルの保存\n",
        "\n",
        "Pandas ではデータフレームオブジェクトの内容を CSV ファイルとして保存するための `df.to_csv()` というメソッドが用意されています。\n",
        "  https://note.nkmk.me/python-pandas-to-csv/"
      ]
    },
    {
      "cell_type": "code",
      "execution_count": null,
      "metadata": {
        "id": "YpLmtcDHusQt"
      },
      "outputs": [],
      "source": [
        "df.to_csv('sample.csv', index=False)"
      ]
    },
    {
      "cell_type": "markdown",
      "source": [
        "左のファイルマークのタブを開くとsample.csvが保存されていることが分かります。\n",
        "\n",
        "![save](data:image/png;base64,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)"
      ],
      "metadata": {
        "id": "ARrFaMs1R7tO"
      }
    },
    {
      "cell_type": "markdown",
      "source": [
        "## 練習問題"
      ],
      "metadata": {
        "id": "CXdd1-EkZNQ4"
      }
    },
    {
      "cell_type": "code",
      "source": [
        "%matplotlib inline\n",
        "import matplotlib.pyplot as plt\n",
        "import pandas as pd\n",
        "\n",
        "df = pd.read_csv('https://raw.githubusercontent.com/timothypesi/Data-Sets-For-Machine-Learning-/main/california_housing_train.csv')\n",
        "df.head(3)"
      ],
      "metadata": {
        "id": "s0zxjLNxZmyG"
      },
      "execution_count": null,
      "outputs": []
    },
    {
      "cell_type": "markdown",
      "source": [
        "### 1: 1世帯あたりの部屋数トップ3を表示してください\n",
        "\n",
        "計算結果の`Series`を新たなカラムとして`DataFrame`に追加できます  \n",
        "`df['new_column'] = df['col1'] * df['col2']`"
      ],
      "metadata": {
        "id": "MO_JWW3aZdGw"
      }
    },
    {
      "cell_type": "code",
      "source": [],
      "metadata": {
        "id": "rovmjJNsk9uq"
      },
      "execution_count": null,
      "outputs": []
    },
    {
      "cell_type": "markdown",
      "source": [
        "### 2: median_incomeとmedian_house_valueの関係を散布図`plt.scatter`を使って可視化"
      ],
      "metadata": {
        "id": "XrDlYFpOnF8_"
      }
    },
    {
      "cell_type": "code",
      "source": [
        "median_income = ...\n",
        "median_house_value = ...\n",
        "plt.scatter(median_income, median_house_value)\n",
        "plt.show()"
      ],
      "metadata": {
        "id": "mzG_uisynGgr"
      },
      "execution_count": null,
      "outputs": []
    },
    {
      "cell_type": "markdown",
      "source": [
        "### 3: median_incomeとmedian_house_valueの相関係数を求める\n",
        "\n",
        "地区ごとのmedian_incomeとmedian_house_valueには相関があるといえるでしょうか？\n",
        "`df.corr()`関数を使用して相関係数を算出しましょう。median_incomeとmedian_house_valueカラムを抽出し、新たなDataFrameを作成してから計算してください"
      ],
      "metadata": {
        "id": "CDVXF_EWrW1X"
      }
    },
    {
      "cell_type": "code",
      "source": [],
      "metadata": {
        "id": "DHmfaMl1rYO4"
      },
      "execution_count": null,
      "outputs": []
    },
    {
      "cell_type": "markdown",
      "source": [
        "### 4: 応用 median_incomeとmedian_house_valueの相関係数を求める2（[参考](https://sci-pursuit.com/math/statistics/correlation-coefficient.html#:~:text=%E3%82%88%E3%81%84%E3%81%A7%E3%81%97%E3%82%87%E3%81%86%E3%80%82-,%E7%9B%B8%E9%96%A2%E4%BF%82%E6%95%B0%E3%81%AE%E6%B1%82%E3%82%81%E6%96%B9,-%E3%81%9D%E3%82%8C%E3%81%9E%E3%82%8C%E3%81%AE%E5%A4%89%E6%95%B0)）\n",
        "\n",
        "簡単に計算できる関数も用意されていますが、練習として手作業でも計算してみます\n",
        "\n",
        "\n",
        "相関係数の求め方\n",
        "1. それぞれの変数(median_income, median_house_value)の平均値を求める\n",
        "2. それぞれの変数の偏差（各値 － 平均値）を求める\n",
        "3. それぞれの変数の分散（偏差の二乗平均）を求める\n",
        "4. それぞれの変数の標準偏差（分散の正の平方根）を求める (平方根は0.5乗で表現できます)\n",
        "5. 共分散（偏差の積の平均）を求める\n",
        "6. 共分散を 「2変数の標準偏差の積」で割って相関係数を得る\n"
      ],
      "metadata": {
        "id": "hAvCy8OHnG8h"
      }
    },
    {
      "cell_type": "code",
      "source": [],
      "metadata": {
        "id": "TsUzdMxSnHU2"
      },
      "execution_count": null,
      "outputs": []
    },
    {
      "cell_type": "code",
      "source": [
        "# おまけ：トップの図の生成\n",
        "\n",
        "%matplotlib inline\n",
        "import matplotlib.pyplot as plt\n",
        "\n",
        "fig, ax = plt.subplots()\n",
        "sc = ax.scatter(df['longitude'], df['latitude'], c=df['median_house_value'], s=df['population']/100, alpha=0.2)\n",
        "ax.legend(*sc.legend_elements(\"sizes\", num=3, fmt='{x:.3g}00'), title='population')\n",
        "ax.set_aspect('equal', adjustable='box')\n",
        "ax.set_ylabel('latitude')\n",
        "ax.set_xlabel('longitude')\n",
        "ax.set_title('California Housing Dataset')\n",
        "fig.colorbar(sc, label='median_house_value')\n",
        "plt.savefig('California_Housing_Dataset.png', dpi=200)\n",
        "plt.show()"
      ],
      "metadata": {
        "id": "ialz4lbeZziw"
      },
      "execution_count": null,
      "outputs": []
    },
    {
      "cell_type": "markdown",
      "metadata": {
        "id": "pUfQuJt6F8IW"
      },
      "source": [
        "## Numpy入門\n",
        "\n",
        "工事中..."
      ]
    },
    {
      "cell_type": "code",
      "execution_count": null,
      "metadata": {
        "id": "CIUFwSp8Gz-O"
      },
      "outputs": [],
      "source": [
        "type(df)"
      ]
    },
    {
      "cell_type": "markdown",
      "metadata": {
        "id": "bPUOh_cenS2g"
      },
      "source": [
        "次に、`df` の `values` という属性の型を調べてみます。"
      ]
    },
    {
      "cell_type": "code",
      "execution_count": null,
      "metadata": {
        "id": "I0HH67MUFCCj"
      },
      "outputs": [],
      "source": [
        "type(df.values)"
      ]
    },
    {
      "cell_type": "markdown",
      "metadata": {
        "id": "90CNJ7Z4nS2g"
      },
      "source": [
        "NumPy の ndarray になっています。\n",
        "データフレームやシリーズは、`values` という属性に値を ndarray として格納しています。"
      ]
    },
    {
      "cell_type": "code",
      "execution_count": null,
      "metadata": {
        "id": "gVhfmvSaFB_Q"
      },
      "outputs": [],
      "source": [
        "df.values"
      ]
    },
    {
      "cell_type": "code",
      "execution_count": null,
      "metadata": {
        "id": "PmFD0jJ1FB7_"
      },
      "outputs": [],
      "source": [
        "type(df['longitude'])"
      ]
    },
    {
      "cell_type": "code",
      "execution_count": null,
      "metadata": {
        "id": "Wer8w0REFB3k"
      },
      "outputs": [],
      "source": [
        "type(df['longitude'].values)"
      ]
    },
    {
      "cell_type": "markdown",
      "metadata": {
        "id": "ak1--qmKIM-p"
      },
      "source": [
        "逆に、Python のリストや ndarray からシリーズやデータフレームを作ることもできます。\n",
        "NumPy で乱数を要素にもつ ndarray を生成し、これをデータフレームに変換してみましょう。\n",
        "\n",
        "`pd.DataFrame` のインスタンス化の際に、`data` 引数に元にしたい ndarray を与えます。"
      ]
    },
    {
      "cell_type": "code",
      "execution_count": null,
      "metadata": {
        "id": "LMuhjg96l1w4"
      },
      "outputs": [],
      "source": [
        "import numpy as np\n",
        "\n",
        "# ndarray -> pd.DataFrame\n",
        "df = pd.DataFrame(\n",
        "    data=np.random.randn(10, 10)\n",
        ")\n",
        "\n",
        "df"
      ]
    },
    {
      "cell_type": "code",
      "source": [
        "population_by_households = df['total_rooms'] / df['households']\n",
        "sorted = population_by_households.sort_values(ascending=False)\n",
        "top3 = sorted.head(3)\n",
        "print(top3)"
      ],
      "metadata": {
        "id": "gMCyEA8ka0RC"
      },
      "execution_count": null,
      "outputs": []
    },
    {
      "cell_type": "code",
      "source": [
        "median_income = df['median_income']\n",
        "median_house_value = df['median_house_value']\n",
        "plt.scatter(median_income, median_house_value)\n",
        "plt.show()"
      ],
      "metadata": {
        "id": "fcHEurvjcCUE"
      },
      "execution_count": null,
      "outputs": []
    },
    {
      "cell_type": "code",
      "source": [
        "new_df = pd.DataFrame([median_income, median_house_value]).T\n",
        "new_df.corr()"
      ],
      "metadata": {
        "id": "w5aHOfIucipE"
      },
      "execution_count": null,
      "outputs": []
    },
    {
      "cell_type": "code",
      "source": [
        "income = df['median_income']\n",
        "housev = df['median_house_value']\n",
        "\n",
        "# 1\n",
        "mean_income = income.mean()\n",
        "mean_housev = housev.mean()\n",
        "\n",
        "# 2\n",
        "deviation_income = income - mean_income\n",
        "deviation_housev = housev - mean_housev\n",
        "\n",
        "# 3\n",
        "variance_income = (deviation_income ** 2).mean()\n",
        "variance_housev = (deviation_housev ** 2).mean()\n",
        "\n",
        "# 4\n",
        "standard_deviation_income = variance_income ** 0.5\n",
        "standard_deviation_housev = variance_housev ** 0.5\n",
        "\n",
        "# 5\n",
        "covariance = (deviation_income * deviation_housev).mean()\n",
        "\n",
        "# 6\n",
        "correlation_coefficient = covariance / (standard_deviation_income * standard_deviation_housev)\n",
        "print(correlation_coefficient)\n"
      ],
      "metadata": {
        "id": "xxoXI-n8eiLf"
      },
      "execution_count": null,
      "outputs": []
    }
  ],
  "metadata": {
    "colab": {
      "name": "tutorial_pandas_numpy.ipynb",
      "provenance": [],
      "include_colab_link": true
    },
    "kernelspec": {
      "display_name": "Python 3",
      "language": "python",
      "name": "python3"
    },
    "language_info": {
      "codemirror_mode": {
        "name": "ipython",
        "version": 3
      },
      "file_extension": ".py",
      "mimetype": "text/x-python",
      "name": "python",
      "nbconvert_exporter": "python",
      "pygments_lexer": "ipython3",
      "version": "3.7.2"
    }
  },
  "nbformat": 4,
  "nbformat_minor": 0
}