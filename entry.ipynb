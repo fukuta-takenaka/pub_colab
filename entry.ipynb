{
  "nbformat": 4,
  "nbformat_minor": 0,
  "metadata": {
    "colab": {
      "name": "entry.ipynb",
      "provenance": [],
      "collapsed_sections": [],
      "authorship_tag": "ABX9TyPylmW/U5NIA+Js2ntKBNFL",
      "include_colab_link": true
    },
    "kernelspec": {
      "name": "python3",
      "display_name": "Python 3"
    },
    "language_info": {
      "name": "python"
    }
  },
  "cells": [
    {
      "cell_type": "markdown",
      "metadata": {
        "id": "view-in-github",
        "colab_type": "text"
      },
      "source": [
        "<a href=\"https://colab.research.google.com/github/fukuta-takenaka/pub_colab/blob/main/entry.ipynb\" target=\"_parent\"><img src=\"https://colab.research.google.com/assets/colab-badge.svg\" alt=\"Open In Colab\"/></a>"
      ]
    },
    {
      "cell_type": "markdown",
      "source": [
        "### Python Tutorial Notebooks\n",
        "\n",
        "- [Basics of Python](https://github.com/fukuta-takenaka/pub_colab/blob/main/Basics_of_Python.ipynb)\n",
        "- [pandas](https://github.com/fukuta-takenaka/pub_colab/blob/main/tutorial_pandas_numpy.ipynb)\n",
        "- [matplotlib](https://github.com/fukuta-takenaka/pub_colab/blob/main/tutorial_matplotlib.ipynb)\n",
        "- [Neural Network and Image Classification](https://github.com/fukuta-takenaka/pub_colab/blob/main/20220608_ai_demo.ipynb)"
      ],
      "metadata": {
        "id": "2Z5hvfmYkm5u"
      }
    }
  ]
}