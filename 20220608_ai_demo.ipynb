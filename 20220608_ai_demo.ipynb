{
  "nbformat": 4,
  "nbformat_minor": 0,
  "metadata": {
    "colab": {
      "name": "20220608_ai_demo.ipynb",
      "provenance": [],
      "collapsed_sections": [],
      "authorship_tag": "ABX9TyNoIArFwZLocxt5OO1dCDam",
      "include_colab_link": true
    },
    "kernelspec": {
      "name": "python3",
      "display_name": "Python 3"
    },
    "language_info": {
      "name": "python"
    }
  },
  "cells": [
    {
      "cell_type": "markdown",
      "metadata": {
        "id": "view-in-github",
        "colab_type": "text"
      },
      "source": [
        "<a href=\"https://colab.research.google.com/github/fukuta-takenaka/pub_colab/blob/main/20220608_ai_demo.ipynb\" target=\"_parent\"><img src=\"https://colab.research.google.com/assets/colab-badge.svg\" alt=\"Open In Colab\"/></a>"
      ]
    },
    {
      "cell_type": "code",
      "execution_count": null,
      "metadata": {
        "id": "xjNaaO6pElys"
      },
      "outputs": [],
      "source": [
        "# !pip install keras==2.2.5\n",
        "# !pip install tensorflow==1.14.0\n",
        "# !pip install h5py==2.10.0\n",
        "!pip install icrawler"
      ]
    },
    {
      "cell_type": "code",
      "source": [
        "from icrawler.builtin import BingImageCrawler, GoogleImageCrawler\n",
        "import logging\n",
        "\n",
        "n_img = 200\n",
        "\n",
        "# 猫の画像を100枚取得\n",
        "crawler = GoogleImageCrawler(storage={\"root_dir\": \"cat\"}, log_level=logging.CRITICAL)\n",
        "crawler.crawl(keyword=\"cat\", max_num=n_img, language='us')\n",
        "\n",
        "# 犬の画像を100枚取得\n",
        "crawler = GoogleImageCrawler(storage={\"root_dir\": \"dog\"}, log_level=logging.CRITICAL)\n",
        "crawler.crawl(keyword=\"dog\", max_num=n_img, language='us')"
      ],
      "metadata": {
        "id": "x0YCoJH3HGBB"
      },
      "execution_count": 2,
      "outputs": []
    },
    {
      "cell_type": "code",
      "source": [
        "# ダウンロードした画像を全て同じ大きさにリサイズし、メモリに格納\n",
        "import numpy as np\n",
        "import cv2\n",
        "from pathlib import Path\n",
        "\n",
        "img_size = 64\n",
        "imgs_cat = list()\n",
        "imgs_dog = list()\n",
        "\n",
        "for img_list, img_dir in ((imgs_cat, './cat'), (imgs_dog, './dog')):\n",
        "  for impath in Path(img_dir).iterdir():\n",
        "    img = cv2.imread(str(impath))\n",
        "    img = cv2.resize(img, (img_size, img_size))\n",
        "    img_list.append(img)"
      ],
      "metadata": {
        "id": "4jzQGLWpHMJS"
      },
      "execution_count": 3,
      "outputs": []
    },
    {
      "cell_type": "code",
      "source": [
        "# 画像の一覧可視化関数\n",
        "import math\n",
        "import PIL\n",
        "\n",
        "def tile_show(imgs, n_col=10):\n",
        "  h, w = imgs[0].shape[:2]\n",
        "  assert all([img.shape[:2] == (h, w) for img in imgs])\n",
        "  n_row = math.ceil(len(imgs) / n_col)\n",
        "  tile = np.zeros((h*n_row, w*n_col, 3), np.uint8)\n",
        "  for i, img in enumerate(imgs):\n",
        "    row = i // n_col\n",
        "    col = i % n_col\n",
        "    y1 = row * h\n",
        "    y2 = (row+1) * h\n",
        "    x1 = col * w\n",
        "    x2 = (col+1) * w\n",
        "    tile[y1:y2, x1:x2] = img\n",
        "  \n",
        "  return PIL.Image.fromarray(tile[..., ::-1])"
      ],
      "metadata": {
        "id": "xURaDAa1Ss0i"
      },
      "execution_count": 4,
      "outputs": []
    },
    {
      "cell_type": "code",
      "source": [
        "tile_show(imgs_cat)"
      ],
      "metadata": {
        "id": "vDsM-SrGLF84"
      },
      "execution_count": null,
      "outputs": []
    },
    {
      "cell_type": "code",
      "source": [
        "tile_show(imgs_dog)"
      ],
      "metadata": {
        "id": "bAxsHhNRLGyS"
      },
      "execution_count": null,
      "outputs": []
    },
    {
      "cell_type": "code",
      "source": [
        ""
      ],
      "metadata": {
        "id": "VNthTJOfRiAj"
      },
      "execution_count": 6,
      "outputs": []
    }
  ]
}