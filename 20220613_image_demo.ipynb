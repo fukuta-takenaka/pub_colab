{
  "nbformat": 4,
  "nbformat_minor": 0,
  "metadata": {
    "colab": {
      "name": "20220613_image_demo",
      "provenance": [],
      "authorship_tag": "ABX9TyNg6o38DmD6Vl+jkzVeUzPG",
      "include_colab_link": true
    },
    "kernelspec": {
      "name": "python3",
      "display_name": "Python 3"
    },
    "language_info": {
      "name": "python"
    }
  },
  "cells": [
    {
      "cell_type": "markdown",
      "metadata": {
        "id": "view-in-github",
        "colab_type": "text"
      },
      "source": [
        "<a href=\"https://colab.research.google.com/github/fukuta-takenaka/pub_colab/blob/main/20220613_image_demo.ipynb\" target=\"_parent\"><img src=\"https://colab.research.google.com/assets/colab-badge.svg\" alt=\"Open In Colab\"/></a>"
      ]
    },
    {
      "cell_type": "code",
      "execution_count": null,
      "metadata": {
        "id": "bYE6HsDdcitL"
      },
      "outputs": [],
      "source": [
        "# 画像データの扱い\n",
        "\n",
        "!pip install python-opencv-utils"
      ]
    },
    {
      "cell_type": "code",
      "source": [
        "%matplotlib inline\n",
        "import matplotlib.pyplot as plt\n",
        "\n",
        "def imshow(image):\n",
        "  if image.ndim == 2:\n",
        "    plt.imshow(image, cmap='gray')\n",
        "  elif image.ndim == 3:\n",
        "    plt.imshow(image[..., ::-1])"
      ],
      "metadata": {
        "id": "IuqKTjkQxRJ5"
      },
      "execution_count": 18,
      "outputs": []
    },
    {
      "cell_type": "code",
      "source": [
        "import cv2u\n",
        "import cv2\n",
        "\n",
        "image = cv2u.urlread('https://futaba-dd.jp/dcguideline/images/1c_01.jpg')\n",
        "image = cv2.cvtColor(image, cv2.COLOR_BGR2GRAY)\n",
        "imshow(image)"
      ],
      "metadata": {
        "id": "IgpvOhkQdsI3"
      },
      "execution_count": null,
      "outputs": []
    },
    {
      "cell_type": "code",
      "source": [
        "height = image.shape[0]\n",
        "image_upper = image[:height//2]\n",
        "image_bottom = image[height//2:]"
      ],
      "metadata": {
        "id": "vP2QWgLGucPy"
      },
      "execution_count": 21,
      "outputs": []
    },
    {
      "cell_type": "code",
      "source": [
        "imshow(image_upper)"
      ],
      "metadata": {
        "id": "TSaerrh4vFnk"
      },
      "execution_count": null,
      "outputs": []
    },
    {
      "cell_type": "code",
      "source": [
        "imshow(image_bottom)"
      ],
      "metadata": {
        "id": "FLtRotouvQJ4"
      },
      "execution_count": null,
      "outputs": []
    },
    {
      "cell_type": "code",
      "source": [
        "plt.hist(image_upper.flatten(), bins=50)\n",
        "plt.show()"
      ],
      "metadata": {
        "id": "3-zFUdJWveKR"
      },
      "execution_count": null,
      "outputs": []
    },
    {
      "cell_type": "code",
      "source": [
        "plt.hist(image_bottom.flatten(), bins=50)\n",
        "plt.show()"
      ],
      "metadata": {
        "id": "quGxhGS5x72x"
      },
      "execution_count": null,
      "outputs": []
    }
  ]
}