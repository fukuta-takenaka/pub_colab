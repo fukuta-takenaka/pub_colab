{
  "nbformat": 4,
  "nbformat_minor": 0,
  "metadata": {
    "colab": {
      "name": "20220613_image_demo",
      "provenance": [],
      "collapsed_sections": [],
      "authorship_tag": "ABX9TyN7xV1G8YY+RPR0U4IQz9I1",
      "include_colab_link": true
    },
    "kernelspec": {
      "name": "python3",
      "display_name": "Python 3"
    },
    "language_info": {
      "name": "python"
    }
  },
  "cells": [
    {
      "cell_type": "markdown",
      "metadata": {
        "id": "view-in-github",
        "colab_type": "text"
      },
      "source": [
        "<a href=\"https://colab.research.google.com/github/fukuta-takenaka/pub_colab/blob/main/20220613_image_demo.ipynb\" target=\"_parent\"><img src=\"https://colab.research.google.com/assets/colab-badge.svg\" alt=\"Open In Colab\"/></a>"
      ]
    },
    {
      "cell_type": "markdown",
      "source": [
        "---\n",
        ">画像データの扱い\n",
        "```\n",
        "!pip install python-opencv-utils\n",
        "```"
      ],
      "metadata": {
        "id": "bYE6HsDdcitL"
      }
    },
    {
      "cell_type": "code",
      "source": [
        ""
      ],
      "metadata": {
        "id": "bAkt5T-R0i12"
      },
      "execution_count": null,
      "outputs": []
    },
    {
      "cell_type": "markdown",
      "source": [
        "---\n",
        ">画像表示関数の準備\n",
        "```\n",
        "%matplotlib inline  \n",
        "import matplotlib.pyplot as plt\n",
        "def imshow(image):\n",
        "  if image.ndim == 2:  \n",
        "    plt.imshow(image, cmap='gray')  \n",
        "  elif image.ndim == 3:  \n",
        "    plt.imshow(image[..., ::-1])\n",
        "```"
      ],
      "metadata": {
        "id": "IuqKTjkQxRJ5"
      }
    },
    {
      "cell_type": "code",
      "source": [
        ""
      ],
      "metadata": {
        "id": "b2NOisBa0jh2"
      },
      "execution_count": null,
      "outputs": []
    },
    {
      "cell_type": "markdown",
      "source": [
        "---\n",
        ">URLから画像取り込み\n",
        "```\n",
        "import cv2u\n",
        "import cv2\n",
        "image = cv2u.urlread('https://futaba-dd.jp/dcguideline/images/1c_01.jpg')\n",
        "image = cv2.cvtColor(image, cv2.COLOR_BGR2GRAY)\n",
        "imshow(image)\n",
        "```"
      ],
      "metadata": {
        "id": "IgpvOhkQdsI3"
      }
    },
    {
      "cell_type": "code",
      "source": [
        ""
      ],
      "metadata": {
        "id": "_-taj55b0kZe"
      },
      "execution_count": null,
      "outputs": []
    },
    {
      "cell_type": "markdown",
      "source": [
        "---\n",
        ">画像の分割\n",
        "```\n",
        "height = image.shape[0]\n",
        "image_upper = image[:height//2]\n",
        "image_bottom = image[height//2:]\n",
        "```"
      ],
      "metadata": {
        "id": "vP2QWgLGucPy"
      }
    },
    {
      "cell_type": "code",
      "source": [
        ""
      ],
      "metadata": {
        "id": "mO9v7-bN0k9u"
      },
      "execution_count": null,
      "outputs": []
    },
    {
      "cell_type": "markdown",
      "source": [
        "```\n",
        "imshow(image_upper)\n",
        "```"
      ],
      "metadata": {
        "id": "TSaerrh4vFnk"
      }
    },
    {
      "cell_type": "code",
      "source": [
        ""
      ],
      "metadata": {
        "id": "OChleu0N0lfu"
      },
      "execution_count": null,
      "outputs": []
    },
    {
      "cell_type": "markdown",
      "source": [
        "```\n",
        "imshow(image_bottom)\n",
        "```"
      ],
      "metadata": {
        "id": "FLtRotouvQJ4"
      }
    },
    {
      "cell_type": "code",
      "source": [
        ""
      ],
      "metadata": {
        "id": "1nZR-bgM0mWO"
      },
      "execution_count": null,
      "outputs": []
    },
    {
      "cell_type": "markdown",
      "source": [
        "---\n",
        ">輝度ヒストグラムの作成\n",
        "```\n",
        "import seaborn as sns\n",
        "sns.set()\n",
        "plt.hist([image_upper.flatten(), image_bottom.flatten()], bins=15, label=['upper', 'bottom'])\n",
        "plt.xlabel('intensity')\n",
        "plt.ylabel('area (px)')\n",
        "plt.legend()\n",
        "plt.show()\n",
        "```"
      ],
      "metadata": {
        "id": "3-zFUdJWveKR"
      }
    },
    {
      "cell_type": "code",
      "source": [
        ""
      ],
      "metadata": {
        "id": "AOZ1rJU40mkO"
      },
      "execution_count": null,
      "outputs": []
    }
  ]
}