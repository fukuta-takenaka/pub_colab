{
  "nbformat": 4,
  "nbformat_minor": 0,
  "metadata": {
    "colab": {
      "name": "NDB_open_data_excel2csv.ipynb",
      "provenance": [],
      "collapsed_sections": [],
      "authorship_tag": "ABX9TyMObVWNofds/4cE8uBmry2h",
      "include_colab_link": true
    },
    "kernelspec": {
      "name": "python3",
      "display_name": "Python 3"
    },
    "language_info": {
      "name": "python"
    }
  },
  "cells": [
    {
      "cell_type": "markdown",
      "metadata": {
        "id": "view-in-github",
        "colab_type": "text"
      },
      "source": [
        "<a href=\"https://colab.research.google.com/github/fukuta-takenaka/pub_colab/blob/main/NDB_open_data_excel2csv.ipynb\" target=\"_parent\"><img src=\"https://colab.research.google.com/assets/colab-badge.svg\" alt=\"Open In Colab\"/></a>"
      ]
    },
    {
      "cell_type": "code",
      "execution_count": 8,
      "metadata": {
        "colab": {
          "base_uri": "https://localhost:8080/"
        },
        "id": "IR_6qHXYqhum",
        "outputId": "97a0661f-d093-441c-fa21-c6b5913c8676"
      },
      "outputs": [
        {
          "output_type": "stream",
          "name": "stdout",
          "text": [
            "Looking in indexes: https://pypi.org/simple, https://us-python.pkg.dev/colab-wheels/public/simple/\n",
            "Requirement already satisfied: openpyxl in /usr/local/lib/python3.7/dist-packages (3.0.10)\n",
            "Requirement already satisfied: et-xmlfile in /usr/local/lib/python3.7/dist-packages (from openpyxl) (1.1.0)\n"
          ]
        }
      ],
      "source": [
        "!pip install --upgrade openpyxl\n",
        "from io import BytesIO\n",
        "import openpyxl\n",
        "import requests\n",
        "import pandas as pd"
      ]
    },
    {
      "cell_type": "code",
      "source": [
        "url = 'https://www.mhlw.go.jp/content/12400000/000821450.xlsx'\n",
        "r = requests.get(url, allow_redirects=True)\n",
        "wb = openpyxl.open(BytesIO(r.content))"
      ],
      "metadata": {
        "id": "xzGlijVqqo_m"
      },
      "execution_count": 2,
      "outputs": []
    },
    {
      "cell_type": "code",
      "source": [
        "ws = wb.worksheets[0]\n",
        "ws['A1'].value"
      ],
      "metadata": {
        "colab": {
          "base_uri": "https://localhost:8080/",
          "height": 53
        },
        "id": "HI0BfMjus3Cs",
        "outputId": "b65bf1ef-6425-4557-a1f2-6da74aa69f67"
      },
      "execution_count": 3,
      "outputs": [
        {
          "output_type": "execute_result",
          "data": {
            "text/plain": [
              "'診療年月：H31年04月～R02年03月\\u3000D 検査\\u3000外来\\u3000※集計結果が10未満の場合は「‐」で表示（10未満の箇所が1箇所の場合は10以上の最小値を全て「‐」で表示）※集計対象期間内に名称や点数・金額等に変更がある場合、集計対象期間当初の情報で表示'"
            ],
            "application/vnd.google.colaboratory.intrinsic+json": {
              "type": "string"
            }
          },
          "metadata": {},
          "execution_count": 3
        }
      ]
    },
    {
      "cell_type": "code",
      "source": [
        "data_cells = ws['A5:BA1319']\n",
        "cols = [cell.value.replace('\\n', '') for cell in ws['A3:F3'][0] + ws['G4:BA4'][0]]"
      ],
      "metadata": {
        "id": "2Fjs9QaHuTWt"
      },
      "execution_count": 4,
      "outputs": []
    },
    {
      "cell_type": "code",
      "source": [
        "data = list()\n",
        "tmp_cls_code = ''\n",
        "tmp_cls_name = ''\n",
        "for row in data_cells:\n",
        "  if row[0].value:\n",
        "    tmp_cls_code = row[0].value\n",
        "    tmp_cls_name = row[1].value\n",
        "  data.append([tmp_cls_code, tmp_cls_name] + [cell.value for cell in row[2:]])"
      ],
      "metadata": {
        "id": "hbmOG0IPvAxq"
      },
      "execution_count": 5,
      "outputs": []
    },
    {
      "cell_type": "code",
      "source": [
        "df = pd.DataFrame(data, columns=cols)\n",
        "df.head()"
      ],
      "metadata": {
        "colab": {
          "base_uri": "https://localhost:8080/",
          "height": 1000
        },
        "id": "y9puUKd3uASH",
        "outputId": "48464bab-a418-40b0-d95e-56ddbd299dba"
      },
      "execution_count": 20,
      "outputs": [
        {
          "output_type": "execute_result",
          "data": {
            "text/plain": [
              "  分類コード           分類名称    診療行為コード                診療行為  点数        総計      北海道  \\\n",
              "0  D000  尿中一般物質定性半定量検査  160000310       尿中一般物質定性半定量検査  26  67663339  3715559   \n",
              "1  D001   尿中特殊物質定性定量検査  160000410                 尿蛋白   7   2094306   133410   \n",
              "2  D001   尿中特殊物質定性定量検査  160001310            ＶＭＡ定性（尿）   9      2234       61   \n",
              "3  D001   尿中特殊物質定性定量検査  160001410  Ｂｅｎｃｅ　Ｊｏｎｅｓ蛋白定性（尿）   9     11531      343   \n",
              "4  D001   尿中特殊物質定性定量検査  160001710              尿グルコース   9    491982    75355   \n",
              "\n",
              "      青森県     岩手県      宮城県  ...     愛媛県     高知県      福岡県     佐賀県     長崎県  \\\n",
              "0  847707  877458  1600628  ...  862351  545020  2807674  481349  851405   \n",
              "1   19438   26094    43524  ...   23826   13834    61385   13078   31446   \n",
              "2     213     159       68  ...       -       -       31       -       -   \n",
              "3      66      91      117  ...      91      64      307     150      47   \n",
              "4     785     354     6259  ...     449      77     8090    3952    6375   \n",
              "\n",
              "       熊本県     大分県     宮崎県     鹿児島県     沖縄県  \n",
              "0  1152042  889535  823475  1117181  702541  \n",
              "1    35508   27562   13211    42602   32850  \n",
              "2        -       -       -       70       -  \n",
              "3      130      28      84       25     149  \n",
              "4     2158     502    1749      501     103  \n",
              "\n",
              "[5 rows x 53 columns]"
            ],
            "text/html": [
              "\n",
              "  <div id=\"df-65b4b522-df3e-40ba-acab-37ea97469b8a\">\n",
              "    <div class=\"colab-df-container\">\n",
              "      <div>\n",
              "<style scoped>\n",
              "    .dataframe tbody tr th:only-of-type {\n",
              "        vertical-align: middle;\n",
              "    }\n",
              "\n",
              "    .dataframe tbody tr th {\n",
              "        vertical-align: top;\n",
              "    }\n",
              "\n",
              "    .dataframe thead th {\n",
              "        text-align: right;\n",
              "    }\n",
              "</style>\n",
              "<table border=\"1\" class=\"dataframe\">\n",
              "  <thead>\n",
              "    <tr style=\"text-align: right;\">\n",
              "      <th></th>\n",
              "      <th>分類コード</th>\n",
              "      <th>分類名称</th>\n",
              "      <th>診療行為コード</th>\n",
              "      <th>診療行為</th>\n",
              "      <th>点数</th>\n",
              "      <th>総計</th>\n",
              "      <th>北海道</th>\n",
              "      <th>青森県</th>\n",
              "      <th>岩手県</th>\n",
              "      <th>宮城県</th>\n",
              "      <th>...</th>\n",
              "      <th>愛媛県</th>\n",
              "      <th>高知県</th>\n",
              "      <th>福岡県</th>\n",
              "      <th>佐賀県</th>\n",
              "      <th>長崎県</th>\n",
              "      <th>熊本県</th>\n",
              "      <th>大分県</th>\n",
              "      <th>宮崎県</th>\n",
              "      <th>鹿児島県</th>\n",
              "      <th>沖縄県</th>\n",
              "    </tr>\n",
              "  </thead>\n",
              "  <tbody>\n",
              "    <tr>\n",
              "      <th>0</th>\n",
              "      <td>D000</td>\n",
              "      <td>尿中一般物質定性半定量検査</td>\n",
              "      <td>160000310</td>\n",
              "      <td>尿中一般物質定性半定量検査</td>\n",
              "      <td>26</td>\n",
              "      <td>67663339</td>\n",
              "      <td>3715559</td>\n",
              "      <td>847707</td>\n",
              "      <td>877458</td>\n",
              "      <td>1600628</td>\n",
              "      <td>...</td>\n",
              "      <td>862351</td>\n",
              "      <td>545020</td>\n",
              "      <td>2807674</td>\n",
              "      <td>481349</td>\n",
              "      <td>851405</td>\n",
              "      <td>1152042</td>\n",
              "      <td>889535</td>\n",
              "      <td>823475</td>\n",
              "      <td>1117181</td>\n",
              "      <td>702541</td>\n",
              "    </tr>\n",
              "    <tr>\n",
              "      <th>1</th>\n",
              "      <td>D001</td>\n",
              "      <td>尿中特殊物質定性定量検査</td>\n",
              "      <td>160000410</td>\n",
              "      <td>尿蛋白</td>\n",
              "      <td>7</td>\n",
              "      <td>2094306</td>\n",
              "      <td>133410</td>\n",
              "      <td>19438</td>\n",
              "      <td>26094</td>\n",
              "      <td>43524</td>\n",
              "      <td>...</td>\n",
              "      <td>23826</td>\n",
              "      <td>13834</td>\n",
              "      <td>61385</td>\n",
              "      <td>13078</td>\n",
              "      <td>31446</td>\n",
              "      <td>35508</td>\n",
              "      <td>27562</td>\n",
              "      <td>13211</td>\n",
              "      <td>42602</td>\n",
              "      <td>32850</td>\n",
              "    </tr>\n",
              "    <tr>\n",
              "      <th>2</th>\n",
              "      <td>D001</td>\n",
              "      <td>尿中特殊物質定性定量検査</td>\n",
              "      <td>160001310</td>\n",
              "      <td>ＶＭＡ定性（尿）</td>\n",
              "      <td>9</td>\n",
              "      <td>2234</td>\n",
              "      <td>61</td>\n",
              "      <td>213</td>\n",
              "      <td>159</td>\n",
              "      <td>68</td>\n",
              "      <td>...</td>\n",
              "      <td>-</td>\n",
              "      <td>-</td>\n",
              "      <td>31</td>\n",
              "      <td>-</td>\n",
              "      <td>-</td>\n",
              "      <td>-</td>\n",
              "      <td>-</td>\n",
              "      <td>-</td>\n",
              "      <td>70</td>\n",
              "      <td>-</td>\n",
              "    </tr>\n",
              "    <tr>\n",
              "      <th>3</th>\n",
              "      <td>D001</td>\n",
              "      <td>尿中特殊物質定性定量検査</td>\n",
              "      <td>160001410</td>\n",
              "      <td>Ｂｅｎｃｅ　Ｊｏｎｅｓ蛋白定性（尿）</td>\n",
              "      <td>9</td>\n",
              "      <td>11531</td>\n",
              "      <td>343</td>\n",
              "      <td>66</td>\n",
              "      <td>91</td>\n",
              "      <td>117</td>\n",
              "      <td>...</td>\n",
              "      <td>91</td>\n",
              "      <td>64</td>\n",
              "      <td>307</td>\n",
              "      <td>150</td>\n",
              "      <td>47</td>\n",
              "      <td>130</td>\n",
              "      <td>28</td>\n",
              "      <td>84</td>\n",
              "      <td>25</td>\n",
              "      <td>149</td>\n",
              "    </tr>\n",
              "    <tr>\n",
              "      <th>4</th>\n",
              "      <td>D001</td>\n",
              "      <td>尿中特殊物質定性定量検査</td>\n",
              "      <td>160001710</td>\n",
              "      <td>尿グルコース</td>\n",
              "      <td>9</td>\n",
              "      <td>491982</td>\n",
              "      <td>75355</td>\n",
              "      <td>785</td>\n",
              "      <td>354</td>\n",
              "      <td>6259</td>\n",
              "      <td>...</td>\n",
              "      <td>449</td>\n",
              "      <td>77</td>\n",
              "      <td>8090</td>\n",
              "      <td>3952</td>\n",
              "      <td>6375</td>\n",
              "      <td>2158</td>\n",
              "      <td>502</td>\n",
              "      <td>1749</td>\n",
              "      <td>501</td>\n",
              "      <td>103</td>\n",
              "    </tr>\n",
              "  </tbody>\n",
              "</table>\n",
              "<p>5 rows × 53 columns</p>\n",
              "</div>\n",
              "      <button class=\"colab-df-convert\" onclick=\"convertToInteractive('df-65b4b522-df3e-40ba-acab-37ea97469b8a')\"\n",
              "              title=\"Convert this dataframe to an interactive table.\"\n",
              "              style=\"display:none;\">\n",
              "        \n",
              "  <svg xmlns=\"http://www.w3.org/2000/svg\" height=\"24px\"viewBox=\"0 0 24 24\"\n",
              "       width=\"24px\">\n",
              "    <path d=\"M0 0h24v24H0V0z\" fill=\"none\"/>\n",
              "    <path d=\"M18.56 5.44l.94 2.06.94-2.06 2.06-.94-2.06-.94-.94-2.06-.94 2.06-2.06.94zm-11 1L8.5 8.5l.94-2.06 2.06-.94-2.06-.94L8.5 2.5l-.94 2.06-2.06.94zm10 10l.94 2.06.94-2.06 2.06-.94-2.06-.94-.94-2.06-.94 2.06-2.06.94z\"/><path d=\"M17.41 7.96l-1.37-1.37c-.4-.4-.92-.59-1.43-.59-.52 0-1.04.2-1.43.59L10.3 9.45l-7.72 7.72c-.78.78-.78 2.05 0 2.83L4 21.41c.39.39.9.59 1.41.59.51 0 1.02-.2 1.41-.59l7.78-7.78 2.81-2.81c.8-.78.8-2.07 0-2.86zM5.41 20L4 18.59l7.72-7.72 1.47 1.35L5.41 20z\"/>\n",
              "  </svg>\n",
              "      </button>\n",
              "      \n",
              "  <style>\n",
              "    .colab-df-container {\n",
              "      display:flex;\n",
              "      flex-wrap:wrap;\n",
              "      gap: 12px;\n",
              "    }\n",
              "\n",
              "    .colab-df-convert {\n",
              "      background-color: #E8F0FE;\n",
              "      border: none;\n",
              "      border-radius: 50%;\n",
              "      cursor: pointer;\n",
              "      display: none;\n",
              "      fill: #1967D2;\n",
              "      height: 32px;\n",
              "      padding: 0 0 0 0;\n",
              "      width: 32px;\n",
              "    }\n",
              "\n",
              "    .colab-df-convert:hover {\n",
              "      background-color: #E2EBFA;\n",
              "      box-shadow: 0px 1px 2px rgba(60, 64, 67, 0.3), 0px 1px 3px 1px rgba(60, 64, 67, 0.15);\n",
              "      fill: #174EA6;\n",
              "    }\n",
              "\n",
              "    [theme=dark] .colab-df-convert {\n",
              "      background-color: #3B4455;\n",
              "      fill: #D2E3FC;\n",
              "    }\n",
              "\n",
              "    [theme=dark] .colab-df-convert:hover {\n",
              "      background-color: #434B5C;\n",
              "      box-shadow: 0px 1px 3px 1px rgba(0, 0, 0, 0.15);\n",
              "      filter: drop-shadow(0px 1px 2px rgba(0, 0, 0, 0.3));\n",
              "      fill: #FFFFFF;\n",
              "    }\n",
              "  </style>\n",
              "\n",
              "      <script>\n",
              "        const buttonEl =\n",
              "          document.querySelector('#df-65b4b522-df3e-40ba-acab-37ea97469b8a button.colab-df-convert');\n",
              "        buttonEl.style.display =\n",
              "          google.colab.kernel.accessAllowed ? 'block' : 'none';\n",
              "\n",
              "        async function convertToInteractive(key) {\n",
              "          const element = document.querySelector('#df-65b4b522-df3e-40ba-acab-37ea97469b8a');\n",
              "          const dataTable =\n",
              "            await google.colab.kernel.invokeFunction('convertToInteractive',\n",
              "                                                     [key], {});\n",
              "          if (!dataTable) return;\n",
              "\n",
              "          const docLinkHtml = 'Like what you see? Visit the ' +\n",
              "            '<a target=\"_blank\" href=https://colab.research.google.com/notebooks/data_table.ipynb>data table notebook</a>'\n",
              "            + ' to learn more about interactive tables.';\n",
              "          element.innerHTML = '';\n",
              "          dataTable['output_type'] = 'display_data';\n",
              "          await google.colab.output.renderOutput(dataTable, element);\n",
              "          const docLink = document.createElement('div');\n",
              "          docLink.innerHTML = docLinkHtml;\n",
              "          element.appendChild(docLink);\n",
              "        }\n",
              "      </script>\n",
              "    </div>\n",
              "  </div>\n",
              "  "
            ]
          },
          "metadata": {},
          "execution_count": 20
        }
      ]
    },
    {
      "cell_type": "code",
      "source": [
        "df.to_csv('第6回NDBオープンデータ_都道府県別算定回数.csv', index=False)"
      ],
      "metadata": {
        "id": "Y-WXMIG6ZXka"
      },
      "execution_count": 21,
      "outputs": []
    }
  ]
}